{
 "cells": [
  {
   "cell_type": "code",
   "execution_count": 1,
   "metadata": {
    "collapsed": true
   },
   "outputs": [],
   "source": [
    "#Import python libraries to be used for the project\n",
    "import numpy as np\n",
    "import pandas as pd\n",
    "import seaborn as sns\n",
    "import matplotlib.pyplot as plt\n",
    "import time"
   ]
  },
  {
   "cell_type": "code",
   "execution_count": 2,
   "metadata": {
    "collapsed": true
   },
   "outputs": [],
   "source": [
    "df1 = pd.read_csv('C:/Users/hkkam/Desktop/MLV_2/AirData/June.csv')\n",
    "df2 = pd.read_csv('C:/Users/hkkam/Desktop/MLV_2/AirData/July.csv')\n",
    "df3 = pd.read_csv('C:/Users/hkkam/Desktop/MLV_2/AirData/August.csv')\n",
    "frames = [df1,df2, df3]\n",
    "df = pd.concat(frames)\n",
    "df=df.drop(['YEAR','Unnamed: 22'], axis=1)"
   ]
  },
  {
   "cell_type": "code",
   "execution_count": 3,
   "metadata": {
    "collapsed": false
   },
   "outputs": [
    {
     "data": {
      "image/png": "[encoded data removed]",
      "text/plain": [
       "<matplotlib.figure.Figure at 0x17031a7fb70>"
      ]
     },
     "metadata": {},
     "output_type": "display_data"
    }
   ],
   "source": [
    "#Visualize missing data\n",
    "sns.heatmap(df.isnull(),yticklabels=False,cbar=False,cmap='viridis')\n",
    "plt.show()"
   ]
  },
  {
   "cell_type": "code",
   "execution_count": 4,
   "metadata": {
    "collapsed": true
   },
   "outputs": [],
   "source": [
    "#Drop Rows with some columns empty\n",
    "df.dropna(subset = ['UNIQUE_CARRIER','ORIGIN','DEST','CRS_DEP_TIME','CRS_ARR_TIME',\n",
    "                    'ARR_DELAY','CRS_ELAPSED_TIME','DISTANCE'],inplace=True)"
   ]
  },
  {
   "cell_type": "code",
   "execution_count": 5,
   "metadata": {
    "collapsed": true
   },
   "outputs": [],
   "source": [
    "#Get the Departure and Arrival Hours#Get the \n",
    "#For DEP_HOUR, take the CRS_DEP_TIME\n",
    "df['CRS_DEP_HOUR'] = df['CRS_DEP_TIME'].apply(lambda x:int(str(x)[:2]) if x>999 else int(str(x)[:1] if x>99 else 0))\n",
    "df['CRS_DEP_HOUR'] = df['CRS_DEP_HOUR'].apply(lambda x:0 if x==24 else x)\n",
    "\n",
    "##### For ARR_HOUR, take the actual arrival time\n",
    "df['CRS_ARR_HOUR'] = df['CRS_ARR_TIME'].apply(lambda x:int(str(x)[:2]) if x>999 else int(str(x)[:1] if x>99 else 0))\n",
    "df['CRS_ARR_HOUR'] = df['CRS_ARR_HOUR'].apply(lambda x:0 if x==24 else x)"
   ]
  },
  {
   "cell_type": "code",
   "execution_count": 6,
   "metadata": {
    "collapsed": true
   },
   "outputs": [],
   "source": [
    "df.to_csv('Full_airline_data.csv',index=False)"
   ]
  },
  {
   "cell_type": "code",
   "execution_count": 7,
   "metadata": {
    "collapsed": true
   },
   "outputs": [],
   "source": [
    "#Create a new dataframe list of all airports\n",
    "airports_df = pd.DataFrame(pd.concat([df['ORIGIN'],df['DEST']]),columns={'IATA'})\n",
    "#airports_df.head()\n",
    "\n",
    "#Select the Top 20 Airports from the airport list \n",
    "top_20_ports = pd.DataFrame(airports_df['IATA'].value_counts().head(20)).reset_index()\n",
    "top_20_ports.rename(index=str, columns={\"index\":\"IATA\",\"IATA\":\"Count\"},inplace=True)"
   ]
  },
  {
   "cell_type": "code",
   "execution_count": 8,
   "metadata": {
    "collapsed": true
   },
   "outputs": [],
   "source": [
    "#Save the top 50 airports in a CSV file\n",
    "top_20_ports.to_csv('top20ports.csv',index=False)"
   ]
  },
  {
   "cell_type": "markdown",
   "metadata": {},
   "source": [
    "# Restrict Airlines To Top 20 Airports"
   ]
  },
  {
   "cell_type": "code",
   "execution_count": 9,
   "metadata": {
    "collapsed": false
   },
   "outputs": [],
   "source": [
    "df = pd.read_csv('Full_airline_data.csv') #Loading Saved Airlines Data"
   ]
  },
  {
   "cell_type": "code",
   "execution_count": 10,
   "metadata": {
    "collapsed": false
   },
   "outputs": [],
   "source": [
    "#Make subset of data containing only flights from top 20 airports\n",
    "top_20_ports = pd.read_csv('top20ports.csv')['IATA'].tolist()\n",
    "df_sub = df[df['ORIGIN'].isin(top_20_ports)]\n",
    "df_sub = df_sub[df_sub['DEST'].isin(top_20_ports)]"
   ]
  },
  {
   "cell_type": "code",
   "execution_count": 14,
   "metadata": {
    "collapsed": false
   },
   "outputs": [
    {
     "name": "stdout",
     "output_type": "stream",
     "text": [
      "Data Retained of original airlines data: 23.36 % = 350844\n"
     ]
    }
   ],
   "source": [
    "data_retained = len(df_sub.index)/len(df.index)\n",
    "print('Data Retained of original airlines data: '+str(round(data_retained*100,2))+' %'+' = '+str(len(df_sub)))"
   ]
  },
  {
   "cell_type": "code",
   "execution_count": null,
   "metadata": {
    "collapsed": true
   },
   "outputs": [],
   "source": []
  },
  {
   "cell_type": "markdown",
   "metadata": {},
   "source": [
    "# Load Weather Data, Preprocess and Merge With Airlines Data"
   ]
  },
  {
   "cell_type": "code",
   "execution_count": 15,
   "metadata": {
    "collapsed": true
   },
   "outputs": [],
   "source": [
    "#Read weather data file\n",
    "df_weather = pd.read_csv('C:/Users/hkkam/Desktop/MLV_2/Weather_Info/NOA.csv',low_memory=False)\n",
    "\n",
    "#Select the weather parameters which affect flight status: Visibility, Temperature, Wind Speed, Precipitation\n",
    "df_weather = df_weather[['STATION_NAME','DATE','HOURLYVISIBILITY','HOURLYDRYBULBTEMPC','HOURLYWindSpeed','HOURLYPrecip']].copy()"
   ]
  },
  {
   "cell_type": "code",
   "execution_count": 16,
   "metadata": {
    "collapsed": false
   },
   "outputs": [
    {
     "data": {
      "text/plain": [
       "DENVER INTERNATIONAL AIRPORT CO US                  3533\n",
       "DETROIT METROPOLITAN AIRPORT MI US                  3423\n",
       "CHARLOTTE DOUGLAS AIRPORT NC US                     3399\n",
       "BOSTON MA US                                        3393\n",
       "LA GUARDIA AIRPORT NY US                            3328\n",
       "JFK INTERNATIONAL AIRPORT NY US                     3301\n",
       "DAL FTW WSCMO AIRPORT TX US                         3284\n",
       "MINNEAPOLIS ST PAUL INTERNATIONAL AIRPORT MN US     3270\n",
       "CHICAGO OHARE INTERNATIONAL AIRPORT IL US           3174\n",
       "SALT LAKE CITY INTERNATIONAL AIRPORT UT US          3132\n",
       "ATLANTA HARTSFIELD INTERNATIONAL AIRPORT GA US      3110\n",
       "LOS ANGELES INTERNATIONAL AIRPORT CA US             3055\n",
       "ORLANDO INTERNATIONAL AIRPORT FL US                 3052\n",
       "HOUSTON INTERCONTINENTAL AIRPORT TX US              3048\n",
       "BALTIMORE WASHINGTON INTERNATIONAL AIRPORT MD US    3033\n",
       "SEATTLE TACOMA INTERNATIONAL AIRPORT WA US          3019\n",
       "NEWARK LIBERTY INTERNATIONAL AIRPORT NJ US          2960\n",
       "SAN FRANCISCO INTERNATIONAL AIRPORT CA US           2918\n",
       "LAS VEGAS MCCARRAN INTERNATIONAL AIRPORT NV US      2756\n",
       "PHOENIX AIRPORT AZ US                               2749\n",
       "Name: STATION_NAME, dtype: int64"
      ]
     },
     "execution_count": 16,
     "metadata": {},
     "output_type": "execute_result"
    }
   ],
   "source": [
    "df_weather['STATION_NAME'].value_counts()"
   ]
  },
  {
   "cell_type": "code",
   "execution_count": 17,
   "metadata": {
    "collapsed": true
   },
   "outputs": [],
   "source": [
    "#Extract the Year, Month, Date and Hour from df_weather\n",
    "df_weather['DATE'] = pd.to_datetime(df_weather['DATE'])\n",
    "df_weather['YEAR']= df_weather['DATE'].apply(lambda time: time.year)\n",
    "df_weather['MONTH']= df_weather['DATE'].apply(lambda time: time.month)\n",
    "df_weather['DAY_OF_MONTH']= df_weather['DATE'].apply(lambda time: time.day)\n",
    "df_weather['HOUR']= df_weather['DATE'].apply(lambda time: time.hour)\n",
    "\n",
    "#Delete duplicate rows with data from the same station and same date/hour\n",
    "df_weather.drop_duplicates(['STATION_NAME','YEAR','MONTH','DAY_OF_MONTH','HOUR'],inplace=True) #Remove duplicate\n",
    "df_weather.drop('DATE',axis = 1,inplace=True) #Drop date from the df_weather dataframe\n",
    "df_weather.drop('YEAR',axis = 1,inplace=True) #Drop year from the df_weather dataframe"
   ]
  },
  {
   "cell_type": "code",
   "execution_count": 18,
   "metadata": {
    "collapsed": true
   },
   "outputs": [],
   "source": [
    "#Function to convert string in weather data to floats\n",
    "def tryconvert(x):\n",
    "        try:\n",
    "            if str(x)[-1].isalpha():\n",
    "                return(float(str(x)[:-1]))\n",
    "            else:\n",
    "                return(float(str(x)))\n",
    "        except:\n",
    "            return(np.nan)"
   ]
  },
  {
   "cell_type": "code",
   "execution_count": 19,
   "metadata": {
    "collapsed": true
   },
   "outputs": [],
   "source": [
    "df_weather['HOURLYVISIBILITY'] = df_weather['HOURLYVISIBILITY'].apply(lambda x: tryconvert(x))\n",
    "df_weather['HOURLYDRYBULBTEMPC'] = df_weather['HOURLYDRYBULBTEMPC'].apply(lambda x: tryconvert(x))\n",
    "df_weather['HOURLYWindSpeed'] = df_weather['HOURLYWindSpeed'].apply(lambda x: tryconvert(x))\n",
    "df_weather['HOURLYPrecip'] = df_weather['HOURLYPrecip'].apply(lambda x: tryconvert(x))"
   ]
  },
  {
   "cell_type": "code",
   "execution_count": 20,
   "metadata": {
    "collapsed": true
   },
   "outputs": [],
   "source": [
    "#Replace NaNs with 0 in Hourly Precip\n",
    "df_weather['HOURLYPrecip'].fillna(value=0,inplace=True)\n",
    "\n",
    "#Replace NaNs with average value for Hourly Visibility\n",
    "df_weather['HOURLYVISIBILITY'].fillna(df_weather['HOURLYVISIBILITY'].mean(),inplace=True)"
   ]
  },
  {
   "cell_type": "code",
   "execution_count": 21,
   "metadata": {
    "collapsed": true
   },
   "outputs": [],
   "source": [
    "#Replacing the weather station names with the IATA CODES for the airports\n",
    "df_weather['STATION_NAME'].replace('DENVER INTERNATIONAL AIRPORT CO US','DEN',inplace=True)\n",
    "df_weather['STATION_NAME'].replace('DETROIT METROPOLITAN AIRPORT MI US','DTW',inplace=True)\n",
    "df_weather['STATION_NAME'].replace('CHARLOTTE DOUGLAS AIRPORT NC US','CLT',inplace=True)\n",
    "df_weather['STATION_NAME'].replace('BOSTON MA US','BOS',inplace=True)\n",
    "df_weather['STATION_NAME'].replace('LA GUARDIA AIRPORT NY US','LGA',inplace=True)\n",
    "df_weather['STATION_NAME'].replace('ATLANTA HARTSFIELD INTERNATIONAL AIRPORT GA US','ATL',inplace=True)\n",
    "df_weather['STATION_NAME'].replace('CHICAGO OHARE INTERNATIONAL AIRPORT IL US','ORD',inplace=True)\n",
    "df_weather['STATION_NAME'].replace('DAL FTW WSCMO AIRPORT TX US','DFW',inplace=True)\n",
    "df_weather['STATION_NAME'].replace('LOS ANGELES INTERNATIONAL AIRPORT CA US','LAX',inplace=True)\n",
    "df_weather['STATION_NAME'].replace('PHOENIX SKY HARBOR INTERNATIONAL AIRPORT AZ US','PHX',inplace=True)\n",
    "df_weather['STATION_NAME'].replace('HOUSTON INTERCONTINENTAL AIRPORT TX US','IAH',inplace=True)\n",
    "df_weather['STATION_NAME'].replace('MINNEAPOLIS ST PAUL INTERNATIONAL AIRPORT MN US','MSP',inplace=True)\n",
    "df_weather['STATION_NAME'].replace('SEATTLE TACOMA INTERNATIONAL AIRPORT WA US','SEA',inplace=True)\n",
    "df_weather['STATION_NAME'].replace('ORLANDO INTERNATIONAL AIRPORT FL US','MCO',inplace=True)\n",
    "df_weather['STATION_NAME'].replace('NEWARK LIBERTY INTERNATIONAL AIRPORT NJ US','EWR',inplace=True)\n",
    "df_weather['STATION_NAME'].replace('SALT LAKE CITY INTERNATIONAL AIRPORT UT US','SLC',inplace=True)\n",
    "df_weather['STATION_NAME'].replace('JFK INTERNATIONAL AIRPORT NY US','JFK',inplace=True)\n",
    "df_weather['STATION_NAME'].replace('BALTIMORE WASHINGTON INTERNATIONAL AIRPORT MD US','BWI',inplace=True)\n",
    "df_weather['STATION_NAME'].replace('SAN FRANCISCO INTERNATIONAL AIRPORT CA US','SFO',inplace=True)\n",
    "df_weather['STATION_NAME'].replace('LAS VEGAS MCCARRAN INTERNATIONAL AIRPORT NV US','LAS',inplace=True)\n",
    "df_weather['STATION_NAME'].replace('PHOENIX AIRPORT AZ US','PHX',inplace=True)"
   ]
  },
  {
   "cell_type": "markdown",
   "metadata": {},
   "source": [
    "# Getting Average Weather Values For Each Station"
   ]
  },
  {
   "cell_type": "code",
   "execution_count": 22,
   "metadata": {
    "collapsed": true
   },
   "outputs": [],
   "source": [
    "df_avg_DEP = df_weather.groupby('STATION_NAME').mean()\n",
    "df_avg_DEP.drop(['MONTH','DAY_OF_MONTH','HOUR'],axis = 1,inplace=True)\n",
    "df_avg_DEP.reset_index(drop=False,inplace=True)\n",
    "df_avg_DEP.rename(index=str, columns={\"STATION_NAME\": \"ORIGIN\"},inplace=True)\n",
    "df_avg_DEP.rename(index=str, columns={\"HOURLYVISIBILITY\": \"DEP_AVG_HOURLYVISIBILITY\"},inplace=True)\n",
    "df_avg_DEP.rename(index=str, columns={\"HOURLYDRYBULBTEMPC\": \"DEP_AVG_HOURLYDRYBULBTEMPC\"},inplace=True)\n",
    "df_avg_DEP.rename(index=str, columns={\"HOURLYWindSpeed\": \"DEP_AVG_HOURLYWindSpeed\"},inplace=True)\n",
    "df_avg_DEP.rename(index=str, columns={\"HOURLYPrecip\": \"DEP_AVG_HOURLYPrecip\"},inplace=True)\n",
    "\n",
    "df_avg_ARR = df_weather.groupby('STATION_NAME').mean()\n",
    "df_avg_ARR.drop(['MONTH','DAY_OF_MONTH','HOUR'],axis = 1,inplace=True)\n",
    "df_avg_ARR.reset_index(drop=False,inplace=True)\n",
    "df_avg_ARR.rename(index=str, columns={\"STATION_NAME\": \"DEST\"},inplace=True)\n",
    "df_avg_ARR.rename(index=str, columns={\"HOURLYVISIBILITY\": \"ARR_AVG_HOURLYVISIBILITY\"},inplace=True)\n",
    "df_avg_ARR.rename(index=str, columns={\"HOURLYDRYBULBTEMPC\": \"ARR_AVG_HOURLYDRYBULBTEMPC\"},inplace=True)\n",
    "df_avg_ARR.rename(index=str, columns={\"HOURLYWindSpeed\": \"ARR_AVG_HOURLYWindSpeed\"},inplace=True)\n",
    "df_avg_ARR.rename(index=str, columns={\"HOURLYPrecip\": \"ARR_AVG_HOURLYPrecip\"},inplace=True)"
   ]
  },
  {
   "cell_type": "code",
   "execution_count": 23,
   "metadata": {
    "collapsed": true
   },
   "outputs": [],
   "source": [
    "#Create two copies of the Weather Dataframe, so that we can two Joins, one for Origin, and one for Destination\n",
    "df_weather_origin = df_weather.copy()\n",
    "df_weather_dest = df_weather.copy()\n",
    "\n",
    "\n",
    "#Rename the Columns, add DEP_ to each column name and STATION_NAME to ORIGIN\n",
    "df_weather_origin.rename(index=str, columns={\"STATION_NAME\": \"ORIGIN\"},inplace=True)\n",
    "df_weather_origin.rename(index=str, columns={\"HOURLYVISIBILITY\": \"DEP_HOURLYVISIBILITY\"},inplace=True)\n",
    "df_weather_origin.rename(index=str, columns={\"HOURLYDRYBULBTEMPC\": \"DEP_HOURLYDRYBULBTEMPC\"},inplace=True)\n",
    "df_weather_origin.rename(index=str, columns={\"HOURLYWindSpeed\": \"DEP_HOURLYWindSpeed\"},inplace=True)\n",
    "df_weather_origin.rename(index=str, columns={\"HOURLYPrecip\": \"DEP_HOURLYPrecip\"},inplace=True)\n",
    "df_weather_origin.rename(index=str, columns={\"HOUR\": \"CRS_DEP_HOUR\"},inplace=True)\n",
    "\n",
    "#Rename the Columns, add ARR_ to each column name and STATION_NAME to DEST\n",
    "df_weather_dest.rename(index=str, columns={\"STATION_NAME\": \"DEST\"},inplace=True)\n",
    "df_weather_dest.rename(index=str, columns={\"HOURLYVISIBILITY\": \"ARR_HOURLYVISIBILITY\"},inplace=True)\n",
    "df_weather_dest.rename(index=str, columns={\"HOURLYDRYBULBTEMPC\": \"ARR_HOURLYDRYBULBTEMPC\"},inplace=True)\n",
    "df_weather_dest.rename(index=str, columns={\"HOURLYWindSpeed\": \"ARR_HOURLYWindSpeed\"},inplace=True)\n",
    "df_weather_dest.rename(index=str, columns={\"HOURLYPrecip\": \"ARR_HOURLYPrecip\"},inplace=True)\n",
    "df_weather_dest.rename(index=str, columns={\"HOUR\": \"CRS_ARR_HOUR\"},inplace=True)"
   ]
  },
  {
   "cell_type": "markdown",
   "metadata": {},
   "source": [
    "# Merge Weather Data and Airlines Data"
   ]
  },
  {
   "cell_type": "code",
   "execution_count": 24,
   "metadata": {
    "collapsed": false
   },
   "outputs": [],
   "source": [
    "#Merge the Actual Weather during Take-off and Landing for each flight \n",
    "df_sub = pd.merge(df_sub, df_weather_origin, on=['ORIGIN','MONTH','DAY_OF_MONTH','CRS_DEP_HOUR'], how='left')\n",
    "df_sub = pd.merge(df_sub, df_weather_dest, on=['DEST','MONTH','DAY_OF_MONTH','CRS_ARR_HOUR'], how='left')"
   ]
  },
  {
   "cell_type": "code",
   "execution_count": 25,
   "metadata": {
    "collapsed": false
   },
   "outputs": [],
   "source": [
    "#Merge the Average weather for Origin and Destination Airports for each flight:\n",
    "df_sub = pd.merge(df_sub,df_avg_DEP,how='left',on='ORIGIN')\n",
    "df_sub = pd.merge(df_sub,df_avg_ARR,how='left',on='DEST')"
   ]
  },
  {
   "cell_type": "code",
   "execution_count": 26,
   "metadata": {
    "collapsed": true
   },
   "outputs": [],
   "source": [
    "#Criteria for classifying a flights as late or not\n",
    "#class as late if arrival time exceed 3 mins after CRS arrival time\n",
    "df_sub['ARR_DELAY']=df_sub['ARR_DELAY'].apply(lambda x:1 if x>=1 else 0)"
   ]
  },
  {
   "cell_type": "code",
   "execution_count": null,
   "metadata": {
    "collapsed": false
   },
   "outputs": [],
   "source": [
    "list(df_sub)"
   ]
  },
  {
   "cell_type": "code",
   "execution_count": null,
   "metadata": {
    "collapsed": true
   },
   "outputs": [],
   "source": []
  },
  {
   "cell_type": "code",
   "execution_count": null,
   "metadata": {
    "collapsed": true
   },
   "outputs": [],
   "source": []
  },
  {
   "cell_type": "code",
   "execution_count": 61,
   "metadata": {
    "collapsed": true
   },
   "outputs": [],
   "source": [
    "testdata = df_sub.copy()"
   ]
  },
  {
   "cell_type": "code",
   "execution_count": 62,
   "metadata": {
    "collapsed": true
   },
   "outputs": [],
   "source": [
    "testdata=testdata.drop(['FL_NUM','ORIGIN_AIRPORT_ID','ORIGIN_STATE_ABR',\n",
    " 'DEST_AIRPORT_ID','DEST_STATE_ABR','DEP_TIME',\n",
    " 'DEP_DELAY','ARR_TIME', 'ACTUAL_ELAPSED_TIME',\n",
    " 'AIR_TIME','DEP_HOURLYVISIBILITY',\n",
    " 'DEP_HOURLYDRYBULBTEMPC',\n",
    " 'DEP_HOURLYWindSpeed',\n",
    " 'DEP_HOURLYPrecip','CRS_ARR_TIME',\n",
    " 'ARR_HOURLYVISIBILITY','CRS_DEP_TIME',\n",
    " 'ARR_HOURLYDRYBULBTEMPC',\n",
    " 'ARR_HOURLYWindSpeed',\n",
    " 'ARR_HOURLYPrecip',], axis=1)"
   ]
  },
  {
   "cell_type": "code",
   "execution_count": 63,
   "metadata": {
    "collapsed": false
   },
   "outputs": [
    {
     "data": {
      "text/plain": [
       "(350844, 19)"
      ]
     },
     "execution_count": 63,
     "metadata": {},
     "output_type": "execute_result"
    }
   ],
   "source": [
    "testdata.shape"
   ]
  },
  {
   "cell_type": "code",
   "execution_count": 126,
   "metadata": {
    "collapsed": false
   },
   "outputs": [
    {
     "data": {
      "text/plain": [
       "0    194697\n",
       "1    156147\n",
       "Name: ARR_DELAY, dtype: int64"
      ]
     },
     "execution_count": 126,
     "metadata": {},
     "output_type": "execute_result"
    }
   ],
   "source": [
    "testdata['ARR_DELAY'].value_counts()"
   ]
  },
  {
   "cell_type": "code",
   "execution_count": 151,
   "metadata": {
    "collapsed": false
   },
   "outputs": [
    {
     "data": {
      "image/png": "[encoded data removed]",
      "text/plain": [
       "<matplotlib.figure.Figure at 0x170004a1ba8>"
      ]
     },
     "metadata": {},
     "output_type": "display_data"
    },
    {
     "data": {
      "text/plain": [
       "<matplotlib.figure.Figure at 0x17006847f60>"
      ]
     },
     "metadata": {},
     "output_type": "display_data"
    }
   ],
   "source": [
    "sns.countplot(x='ARR_DELAY',data=testdata, palette='hls')\n",
    "plt.show()\n",
    "plt.savefig('count_plot')"
   ]
  },
  {
   "cell_type": "code",
   "execution_count": 129,
   "metadata": {
    "collapsed": false
   },
   "outputs": [
    {
     "data": {
      "image/png": "[encoded data removed]",
      "text/plain": [
       "<matplotlib.figure.Figure at 0x17000570780>"
      ]
     },
     "metadata": {},
     "output_type": "display_data"
    }
   ],
   "source": [
    "%matplotlib inline\n",
    "pd.crosstab(testdata.UNIQUE_CARRIER,testdata.ARR_DELAY).plot(kind='bar')\n",
    "plt.title('Delay Frequency for Airlines')\n",
    "plt.xlabel('Airline')\n",
    "plt.ylabel('Frequency of Delay')\n",
    "plt.savefig('Airline_Delays')"
   ]
  },
  {
   "cell_type": "code",
   "execution_count": 131,
   "metadata": {
    "collapsed": false
   },
   "outputs": [
    {
     "data": {
      "image/png": "[encoded data removed]",
      "text/plain": [
       "<matplotlib.figure.Figure at 0x17003606c18>"
      ]
     },
     "metadata": {},
     "output_type": "display_data"
    }
   ],
   "source": [
    "pd.crosstab(testdata.DAY_OF_WEEK,testdata.ARR_DELAY).plot(kind='bar')\n",
    "plt.title('Delay Frequency for Day of Week')\n",
    "plt.xlabel('Day of Week')\n",
    "plt.ylabel('Frequency of Delays')\n",
    "plt.savefig('delay_dayofweek_bar')"
   ]
  },
  {
   "cell_type": "code",
   "execution_count": 132,
   "metadata": {
    "collapsed": false
   },
   "outputs": [
    {
     "data": {
      "image/png": "[encoded data removed]",
      "text/plain": [
       "<matplotlib.figure.Figure at 0x1702dfaef60>"
      ]
     },
     "metadata": {},
     "output_type": "display_data"
    }
   ],
   "source": [
    "pd.crosstab(testdata.ORIGIN,testdata.ARR_DELAY).plot(kind='bar')\n",
    "plt.title('Delay Frequency for Origin Airport')\n",
    "plt.xlabel('Origin Airport')\n",
    "plt.ylabel('Frequency of Delays')\n",
    "plt.savefig('delay_originairport_bar')"
   ]
  },
  {
   "cell_type": "code",
   "execution_count": 133,
   "metadata": {
    "collapsed": false
   },
   "outputs": [
    {
     "data": {
      "image/png": "[encoded data removed]",
      "text/plain": [
       "<matplotlib.figure.Figure at 0x17003457ba8>"
      ]
     },
     "metadata": {},
     "output_type": "display_data"
    }
   ],
   "source": [
    "pd.crosstab(testdata.DEST,testdata.ARR_DELAY).plot(kind='bar')\n",
    "plt.title('Delay Frequency for Destination Airport')\n",
    "plt.xlabel('Destination Airport')\n",
    "plt.ylabel('Frequency of Delays')\n",
    "plt.savefig('delay_destairport_bar')"
   ]
  },
  {
   "cell_type": "code",
   "execution_count": 134,
   "metadata": {
    "collapsed": false
   },
   "outputs": [
    {
     "data": {
      "image/png": "[encoded data removed]",
      "text/plain": [
       "<matplotlib.figure.Figure at 0x17003331f28>"
      ]
     },
     "metadata": {},
     "output_type": "display_data"
    }
   ],
   "source": [
    "pd.crosstab(testdata.DAY_OF_MONTH,testdata.ARR_DELAY).plot(kind='bar')\n",
    "plt.title('Delay Frequency for Day of Month')\n",
    "plt.xlabel('Day Of Month Airport')\n",
    "plt.ylabel('Frequency of Delays')\n",
    "plt.savefig('delay_domairport_bar')"
   ]
  },
  {
   "cell_type": "code",
   "execution_count": null,
   "metadata": {
    "collapsed": true
   },
   "outputs": [],
   "source": []
  },
  {
   "cell_type": "code",
   "execution_count": null,
   "metadata": {
    "collapsed": true
   },
   "outputs": [],
   "source": []
  },
  {
   "cell_type": "code",
   "execution_count": null,
   "metadata": {
    "collapsed": true
   },
   "outputs": [],
   "source": []
  },
  {
   "cell_type": "code",
   "execution_count": 55,
   "metadata": {
    "collapsed": false
   },
   "outputs": [
    {
     "data": {
      "text/html": [
       "<div>\n",
       "<table border=\"1\" class=\"dataframe\">\n",
       "  <thead>\n",
       "    <tr style=\"text-align: right;\">\n",
       "      <th></th>\n",
       "      <th>MONTH</th>\n",
       "      <th>DAY_OF_MONTH</th>\n",
       "      <th>DAY_OF_WEEK</th>\n",
       "      <th>UNIQUE_CARRIER</th>\n",
       "      <th>ORIGIN</th>\n",
       "      <th>DEST</th>\n",
       "      <th>ARR_DELAY</th>\n",
       "      <th>CRS_ELAPSED_TIME</th>\n",
       "      <th>DISTANCE</th>\n",
       "      <th>CRS_DEP_HOUR</th>\n",
       "      <th>...</th>\n",
       "      <th>ARR_HOURLYDRYBULBTEMPC</th>\n",
       "      <th>ARR_HOURLYPrecip</th>\n",
       "      <th>DEP_AVG_HOURLYVISIBILITY</th>\n",
       "      <th>DEP_AVG_HOURLYDRYBULBTEMPC</th>\n",
       "      <th>DEP_AVG_HOURLYWindSpeed</th>\n",
       "      <th>DEP_AVG_HOURLYPrecip</th>\n",
       "      <th>ARR_AVG_HOURLYVISIBILITY</th>\n",
       "      <th>ARR_AVG_HOURLYDRYBULBTEMPC</th>\n",
       "      <th>ARR_AVG_HOURLYWindSpeed</th>\n",
       "      <th>ARR_AVG_HOURLYPrecip</th>\n",
       "    </tr>\n",
       "  </thead>\n",
       "  <tbody>\n",
       "    <tr>\n",
       "      <th>0</th>\n",
       "      <td>6</td>\n",
       "      <td>15</td>\n",
       "      <td>7</td>\n",
       "      <td>US</td>\n",
       "      <td>EWR</td>\n",
       "      <td>CLT</td>\n",
       "      <td>0</td>\n",
       "      <td>121.0</td>\n",
       "      <td>529.0</td>\n",
       "      <td>15</td>\n",
       "      <td>...</td>\n",
       "      <td>30.0</td>\n",
       "      <td>0.0</td>\n",
       "      <td>9.654816</td>\n",
       "      <td>23.735161</td>\n",
       "      <td>8.003172</td>\n",
       "      <td>0.001825</td>\n",
       "      <td>9.670888</td>\n",
       "      <td>24.872147</td>\n",
       "      <td>5.183877</td>\n",
       "      <td>0.001119</td>\n",
       "    </tr>\n",
       "    <tr>\n",
       "      <th>1</th>\n",
       "      <td>6</td>\n",
       "      <td>15</td>\n",
       "      <td>7</td>\n",
       "      <td>US</td>\n",
       "      <td>BOS</td>\n",
       "      <td>CLT</td>\n",
       "      <td>0</td>\n",
       "      <td>136.0</td>\n",
       "      <td>728.0</td>\n",
       "      <td>11</td>\n",
       "      <td>...</td>\n",
       "      <td>29.4</td>\n",
       "      <td>0.0</td>\n",
       "      <td>9.564469</td>\n",
       "      <td>21.541214</td>\n",
       "      <td>9.623924</td>\n",
       "      <td>0.001205</td>\n",
       "      <td>9.670888</td>\n",
       "      <td>24.872147</td>\n",
       "      <td>5.183877</td>\n",
       "      <td>0.001119</td>\n",
       "    </tr>\n",
       "    <tr>\n",
       "      <th>2</th>\n",
       "      <td>6</td>\n",
       "      <td>15</td>\n",
       "      <td>7</td>\n",
       "      <td>US</td>\n",
       "      <td>ATL</td>\n",
       "      <td>CLT</td>\n",
       "      <td>0</td>\n",
       "      <td>84.0</td>\n",
       "      <td>226.0</td>\n",
       "      <td>15</td>\n",
       "      <td>...</td>\n",
       "      <td>31.1</td>\n",
       "      <td>0.0</td>\n",
       "      <td>9.629588</td>\n",
       "      <td>25.375725</td>\n",
       "      <td>6.319746</td>\n",
       "      <td>0.001866</td>\n",
       "      <td>9.670888</td>\n",
       "      <td>24.872147</td>\n",
       "      <td>5.183877</td>\n",
       "      <td>0.001119</td>\n",
       "    </tr>\n",
       "    <tr>\n",
       "      <th>3</th>\n",
       "      <td>6</td>\n",
       "      <td>15</td>\n",
       "      <td>7</td>\n",
       "      <td>US</td>\n",
       "      <td>CLT</td>\n",
       "      <td>IAH</td>\n",
       "      <td>0</td>\n",
       "      <td>155.0</td>\n",
       "      <td>912.0</td>\n",
       "      <td>18</td>\n",
       "      <td>...</td>\n",
       "      <td>28.3</td>\n",
       "      <td>0.0</td>\n",
       "      <td>9.670888</td>\n",
       "      <td>24.872147</td>\n",
       "      <td>5.183877</td>\n",
       "      <td>0.001119</td>\n",
       "      <td>9.768494</td>\n",
       "      <td>28.047667</td>\n",
       "      <td>6.265972</td>\n",
       "      <td>0.001091</td>\n",
       "    </tr>\n",
       "    <tr>\n",
       "      <th>4</th>\n",
       "      <td>6</td>\n",
       "      <td>15</td>\n",
       "      <td>7</td>\n",
       "      <td>US</td>\n",
       "      <td>CLT</td>\n",
       "      <td>DFW</td>\n",
       "      <td>1</td>\n",
       "      <td>154.0</td>\n",
       "      <td>936.0</td>\n",
       "      <td>9</td>\n",
       "      <td>...</td>\n",
       "      <td>32.8</td>\n",
       "      <td>0.0</td>\n",
       "      <td>9.670888</td>\n",
       "      <td>24.872147</td>\n",
       "      <td>5.183877</td>\n",
       "      <td>0.001119</td>\n",
       "      <td>9.737453</td>\n",
       "      <td>28.761549</td>\n",
       "      <td>10.855978</td>\n",
       "      <td>0.000938</td>\n",
       "    </tr>\n",
       "  </tbody>\n",
       "</table>\n",
       "<p>5 rows × 22 columns</p>\n",
       "</div>"
      ],
      "text/plain": [
       "   MONTH  DAY_OF_MONTH  DAY_OF_WEEK UNIQUE_CARRIER ORIGIN DEST  ARR_DELAY  \\\n",
       "0      6            15            7             US    EWR  CLT          0   \n",
       "1      6            15            7             US    BOS  CLT          0   \n",
       "2      6            15            7             US    ATL  CLT          0   \n",
       "3      6            15            7             US    CLT  IAH          0   \n",
       "4      6            15            7             US    CLT  DFW          1   \n",
       "\n",
       "   CRS_ELAPSED_TIME  DISTANCE  CRS_DEP_HOUR          ...           \\\n",
       "0             121.0     529.0            15          ...            \n",
       "1             136.0     728.0            11          ...            \n",
       "2              84.0     226.0            15          ...            \n",
       "3             155.0     912.0            18          ...            \n",
       "4             154.0     936.0             9          ...            \n",
       "\n",
       "   ARR_HOURLYDRYBULBTEMPC  ARR_HOURLYPrecip  DEP_AVG_HOURLYVISIBILITY  \\\n",
       "0                    30.0               0.0                  9.654816   \n",
       "1                    29.4               0.0                  9.564469   \n",
       "2                    31.1               0.0                  9.629588   \n",
       "3                    28.3               0.0                  9.670888   \n",
       "4                    32.8               0.0                  9.670888   \n",
       "\n",
       "   DEP_AVG_HOURLYDRYBULBTEMPC  DEP_AVG_HOURLYWindSpeed  DEP_AVG_HOURLYPrecip  \\\n",
       "0                   23.735161                 8.003172              0.001825   \n",
       "1                   21.541214                 9.623924              0.001205   \n",
       "2                   25.375725                 6.319746              0.001866   \n",
       "3                   24.872147                 5.183877              0.001119   \n",
       "4                   24.872147                 5.183877              0.001119   \n",
       "\n",
       "   ARR_AVG_HOURLYVISIBILITY  ARR_AVG_HOURLYDRYBULBTEMPC  \\\n",
       "0                  9.670888                   24.872147   \n",
       "1                  9.670888                   24.872147   \n",
       "2                  9.670888                   24.872147   \n",
       "3                  9.768494                   28.047667   \n",
       "4                  9.737453                   28.761549   \n",
       "\n",
       "   ARR_AVG_HOURLYWindSpeed  ARR_AVG_HOURLYPrecip  \n",
       "0                 5.183877              0.001119  \n",
       "1                 5.183877              0.001119  \n",
       "2                 5.183877              0.001119  \n",
       "3                 6.265972              0.001091  \n",
       "4                10.855978              0.000938  \n",
       "\n",
       "[5 rows x 22 columns]"
      ]
     },
     "execution_count": 55,
     "metadata": {},
     "output_type": "execute_result"
    }
   ],
   "source": [
    "testdata.head()"
   ]
  },
  {
   "cell_type": "code",
   "execution_count": 64,
   "metadata": {
    "collapsed": false
   },
   "outputs": [],
   "source": [
    "X = testdata.iloc[:, [0,1,2,3,4,5,7,8,9,10,11,12,13,14,15,16,17,18]].values"
   ]
  },
  {
   "cell_type": "code",
   "execution_count": null,
   "metadata": {
    "collapsed": false
   },
   "outputs": [],
   "source": []
  },
  {
   "cell_type": "code",
   "execution_count": 65,
   "metadata": {
    "collapsed": true
   },
   "outputs": [],
   "source": [
    "Y = testdata.iloc[:,6].values"
   ]
  },
  {
   "cell_type": "code",
   "execution_count": 66,
   "metadata": {
    "collapsed": false
   },
   "outputs": [
    {
     "data": {
      "text/plain": [
       "array([0, 0, 0, ..., 0, 0, 0], dtype=int64)"
      ]
     },
     "execution_count": 66,
     "metadata": {},
     "output_type": "execute_result"
    }
   ],
   "source": [
    "Y"
   ]
  },
  {
   "cell_type": "code",
   "execution_count": 67,
   "metadata": {
    "collapsed": false
   },
   "outputs": [],
   "source": [
    "#ENCODING ALL CATEGORICAL VARIABLES\n",
    "from sklearn.preprocessing import LabelEncoder , OneHotEncoder\n",
    "labelencoder_x = LabelEncoder()\n",
    "X[:, 0] = labelencoder_x.fit_transform(X[:,0])\n",
    "X[:, 2] = labelencoder_x.fit_transform(X[:,2])\n",
    "X[:, 3] = labelencoder_x.fit_transform(X[:,3])\n",
    "X[:, 4] = labelencoder_x.fit_transform(X[:,4])\n",
    "X[:, 5] = labelencoder_x.fit_transform(X[:,5])\n",
    "onehotencoder = OneHotEncoder(categorical_features = [0,2,3,4,5])\n",
    "X = onehotencoder.fit_transform(X).toarray()\n",
    "            "
   ]
  },
  {
   "cell_type": "code",
   "execution_count": 69,
   "metadata": {
    "collapsed": true
   },
   "outputs": [],
   "source": [
    "#SPLIT THE DATASET INTO TRAINING AND TEST SET WITH THE TEST SIZE AS 20% OF THE ORIGINAL DATA\n",
    "from sklearn.model_selection import train_test_split\n",
    "x_train,x_test,y_train,y_test = train_test_split(X,Y, test_size=0.2, random_state=0)\n",
    "x_train,x_val,y_train,y_val = train_test_split(x_train,y_train, test_size=0.2, random_state=0)"
   ]
  },
  {
   "cell_type": "code",
   "execution_count": 70,
   "metadata": {
    "collapsed": false
   },
   "outputs": [],
   "source": [
    "#Feature Scaling the training dataset ::: Standardization\n",
    "from sklearn.preprocessing import StandardScaler \n",
    "scaler = StandardScaler()\n",
    "x_train = scaler.fit_transform(x_train)\n",
    "x_test = scaler.transform(x_test)"
   ]
  },
  {
   "cell_type": "markdown",
   "metadata": {},
   "source": [
    "# Train With The LassoCV"
   ]
  },
  {
   "cell_type": "code",
   "execution_count": 71,
   "metadata": {
    "collapsed": true
   },
   "outputs": [],
   "source": [
    "from sklearn import linear_model \n",
    "l_classifier = linear_model.LassoCV() #Use the default parameters"
   ]
  },
  {
   "cell_type": "code",
   "execution_count": 72,
   "metadata": {
    "collapsed": false
   },
   "outputs": [
    {
     "name": "stdout",
     "output_type": "stream",
     "text": [
      "Finished Training Data in 25.633293390274048 seconds\n"
     ]
    },
    {
     "name": "stderr",
     "output_type": "stream",
     "text": [
      "C:\\ProgramData\\Anaconda3\\lib\\site-packages\\sklearn\\linear_model\\coordinate_descent.py:491: ConvergenceWarning: Objective did not converge. You might want to increase the number of iterations. Fitting data with very small alpha may cause precision problems.\n",
      "  ConvergenceWarning)\n"
     ]
    }
   ],
   "source": [
    "tic = time.time()\n",
    "l_classifier.fit(x_train, y_train)\n",
    "toc = time.time()\n",
    "print(\"Finished Training Data in \" + str(toc-tic) + \" seconds\")"
   ]
  },
  {
   "cell_type": "code",
   "execution_count": 73,
   "metadata": {
    "collapsed": true
   },
   "outputs": [],
   "source": [
    "l_pred = l_classifier.predict(x_test)"
   ]
  },
  {
   "cell_type": "code",
   "execution_count": 74,
   "metadata": {
    "collapsed": false
   },
   "outputs": [
    {
     "data": {
      "text/plain": [
       "0.62081545981843833"
      ]
     },
     "execution_count": 74,
     "metadata": {},
     "output_type": "execute_result"
    }
   ],
   "source": [
    "from sklearn.metrics import accuracy_score\n",
    "accuracy_score(y_test, (l_pred>0.5).astype(int))"
   ]
  },
  {
   "cell_type": "code",
   "execution_count": 75,
   "metadata": {
    "collapsed": false
   },
   "outputs": [
    {
     "data": {
      "text/plain": [
       "8.1021750203295721e-05"
      ]
     },
     "execution_count": 75,
     "metadata": {},
     "output_type": "execute_result"
    }
   ],
   "source": [
    "l_classifier.alpha_"
   ]
  },
  {
   "cell_type": "code",
   "execution_count": 78,
   "metadata": {
    "collapsed": false
   },
   "outputs": [
    {
     "data": {
      "text/plain": [
       "array([ True, False,  True, False, False,  True,  True,  True,  True,\n",
       "        True,  True,  True, False,  True,  True,  True,  True,  True,\n",
       "        True,  True,  True,  True,  True,  True,  True,  True,  True,\n",
       "        True,  True,  True,  True,  True,  True,  True, False,  True,\n",
       "       False,  True,  True,  True,  True, False,  True,  True,  True,\n",
       "        True,  True, False,  True,  True,  True,  True,  True,  True,\n",
       "        True,  True, False,  True,  True,  True,  True,  True,  True,\n",
       "        True,  True,  True,  True,  True,  True, False, False,  True,\n",
       "       False, False,  True,  True], dtype=bool)"
      ]
     },
     "execution_count": 78,
     "metadata": {},
     "output_type": "execute_result"
    }
   ],
   "source": [
    "l_classifier.coef_ !=0"
   ]
  },
  {
   "cell_type": "code",
   "execution_count": 82,
   "metadata": {
    "collapsed": false
   },
   "outputs": [
    {
     "name": "stdout",
     "output_type": "stream",
     "text": [
      "             precision    recall  f1-score   support\n",
      "\n",
      "          0       0.63      0.76      0.69     39092\n",
      "          1       0.60      0.45      0.51     31077\n",
      "\n",
      "avg / total       0.62      0.62      0.61     70169\n",
      "\n"
     ]
    }
   ],
   "source": [
    "#Compute precision, recall, F-measure and support\n",
    "from sklearn.metrics import classification_report\n",
    "print(classification_report(y_test, (l_pred>0.5).astype(int)))"
   ]
  },
  {
   "cell_type": "code",
   "execution_count": null,
   "metadata": {
    "collapsed": true
   },
   "outputs": [],
   "source": []
  },
  {
   "cell_type": "markdown",
   "metadata": {},
   "source": [
    "# LassoCV 2"
   ]
  },
  {
   "cell_type": "code",
   "execution_count": 140,
   "metadata": {
    "collapsed": false
   },
   "outputs": [
    {
     "data": {
      "text/plain": [
       "array([ 0.0001 ,  0.00035,  0.0006 ,  0.00085])"
      ]
     },
     "execution_count": 140,
     "metadata": {},
     "output_type": "execute_result"
    }
   ],
   "source": [
    "l_alpha = np.arange(0.0001, 0.001, 0.00025)\n",
    "l_alpha"
   ]
  },
  {
   "cell_type": "code",
   "execution_count": 141,
   "metadata": {
    "collapsed": true
   },
   "outputs": [],
   "source": [
    "l_classifier2 = linear_model.LassoCV(alphas = l_alpha, eps=0.001)"
   ]
  },
  {
   "cell_type": "code",
   "execution_count": 142,
   "metadata": {
    "collapsed": false
   },
   "outputs": [
    {
     "name": "stdout",
     "output_type": "stream",
     "text": [
      "Finished Training Data in 22.92165994644165 seconds\n"
     ]
    },
    {
     "name": "stderr",
     "output_type": "stream",
     "text": [
      "C:\\ProgramData\\Anaconda3\\lib\\site-packages\\sklearn\\linear_model\\coordinate_descent.py:491: ConvergenceWarning: Objective did not converge. You might want to increase the number of iterations. Fitting data with very small alpha may cause precision problems.\n",
      "  ConvergenceWarning)\n"
     ]
    }
   ],
   "source": [
    "tic = time.time()\n",
    "l_classifier2.fit(x_train,y_train)\n",
    "toc = time.time()\n",
    "print(\"Finished Training Data in \" + str(toc-tic) + \" seconds\")"
   ]
  },
  {
   "cell_type": "code",
   "execution_count": 143,
   "metadata": {
    "collapsed": false
   },
   "outputs": [
    {
     "data": {
      "text/plain": [
       "0.0001"
      ]
     },
     "execution_count": 143,
     "metadata": {},
     "output_type": "execute_result"
    }
   ],
   "source": [
    "l_classifier2.alpha_"
   ]
  },
  {
   "cell_type": "code",
   "execution_count": 144,
   "metadata": {
    "collapsed": false
   },
   "outputs": [
    {
     "data": {
      "text/plain": [
       "array([ True, False,  True, False, False,  True,  True,  True,  True,\n",
       "        True,  True,  True, False,  True,  True,  True,  True,  True,\n",
       "        True,  True,  True,  True,  True,  True,  True,  True,  True,\n",
       "        True,  True,  True,  True,  True,  True,  True, False,  True,\n",
       "       False,  True,  True,  True,  True, False,  True,  True,  True,\n",
       "        True,  True, False,  True,  True,  True,  True,  True,  True,\n",
       "        True,  True, False,  True,  True,  True,  True,  True,  True,\n",
       "        True,  True,  True,  True,  True,  True, False, False,  True,\n",
       "       False, False,  True,  True], dtype=bool)"
      ]
     },
     "execution_count": 144,
     "metadata": {},
     "output_type": "execute_result"
    }
   ],
   "source": [
    "l_classifier2.coef_ !=0"
   ]
  },
  {
   "cell_type": "code",
   "execution_count": 145,
   "metadata": {
    "collapsed": true
   },
   "outputs": [],
   "source": [
    "l_pred2 = l_classifier2.predict(x_test)"
   ]
  },
  {
   "cell_type": "code",
   "execution_count": 146,
   "metadata": {
    "collapsed": false
   },
   "outputs": [
    {
     "data": {
      "text/plain": [
       "0.62080120851088083"
      ]
     },
     "execution_count": 146,
     "metadata": {},
     "output_type": "execute_result"
    }
   ],
   "source": [
    "from sklearn.metrics import accuracy_score\n",
    "accuracy_score(y_test, (l_pred2>0.5).astype(int))"
   ]
  },
  {
   "cell_type": "code",
   "execution_count": 147,
   "metadata": {
    "collapsed": false
   },
   "outputs": [
    {
     "name": "stdout",
     "output_type": "stream",
     "text": [
      "             precision    recall  f1-score   support\n",
      "\n",
      "          0       0.63      0.76      0.69     39092\n",
      "          1       0.60      0.45      0.51     31077\n",
      "\n",
      "avg / total       0.62      0.62      0.61     70169\n",
      "\n"
     ]
    }
   ],
   "source": [
    "#Compute precision, recall, F-measure and support\n",
    "from sklearn.metrics import classification_report\n",
    "print(classification_report(y_test, (l_pred2>0.5).astype(int)))"
   ]
  },
  {
   "cell_type": "code",
   "execution_count": null,
   "metadata": {
    "collapsed": true
   },
   "outputs": [],
   "source": []
  },
  {
   "cell_type": "markdown",
   "metadata": {},
   "source": [
    "# LogisticRegression with CV 1"
   ]
  },
  {
   "cell_type": "code",
   "execution_count": 108,
   "metadata": {
    "collapsed": false
   },
   "outputs": [
    {
     "data": {
      "text/plain": [
       "array([ 0.1,  0.2,  0.3,  0.4,  0.5,  0.6,  0.7,  0.8,  0.9])"
      ]
     },
     "execution_count": 108,
     "metadata": {},
     "output_type": "execute_result"
    }
   ],
   "source": [
    "cs = np.arange(0.1,1,0.1)\n",
    "from sklearn.linear_model import LogisticRegressionCV\n",
    "log_classifier = LogisticRegressionCV(Cs=cs, solver='saga', penalty='l1')\n",
    "cs"
   ]
  },
  {
   "cell_type": "code",
   "execution_count": 93,
   "metadata": {
    "collapsed": false
   },
   "outputs": [
    {
     "name": "stdout",
     "output_type": "stream",
     "text": [
      "Finished Training Data in 58.70361399650574 seconds\n"
     ]
    }
   ],
   "source": [
    "tic = time.time()\n",
    "log_classifier.fit(x_train,y_train)\n",
    "toc = time.time()\n",
    "print(\"Finished Training Data in \" + str(toc-tic) + \" seconds\")"
   ]
  },
  {
   "cell_type": "code",
   "execution_count": 94,
   "metadata": {
    "collapsed": false
   },
   "outputs": [
    {
     "data": {
      "text/plain": [
       "array([ 0.7])"
      ]
     },
     "execution_count": 94,
     "metadata": {},
     "output_type": "execute_result"
    }
   ],
   "source": [
    "log_classifier.C_"
   ]
  },
  {
   "cell_type": "code",
   "execution_count": 105,
   "metadata": {
    "collapsed": false
   },
   "outputs": [
    {
     "data": {
      "text/plain": [
       "63"
      ]
     },
     "execution_count": 105,
     "metadata": {},
     "output_type": "execute_result"
    }
   ],
   "source": [
    "(log_classifier.coef_ !=0).sum()"
   ]
  },
  {
   "cell_type": "code",
   "execution_count": 106,
   "metadata": {
    "collapsed": false
   },
   "outputs": [
    {
     "data": {
      "text/plain": [
       "array([[ True, False,  True, False,  True,  True,  True,  True,  True,\n",
       "         True,  True,  True,  True,  True,  True,  True, False,  True,\n",
       "         True,  True,  True,  True,  True,  True,  True,  True,  True,\n",
       "         True,  True,  True,  True,  True,  True,  True, False,  True,\n",
       "        False,  True,  True,  True,  True, False,  True,  True,  True,\n",
       "         True, False, False,  True,  True,  True,  True,  True,  True,\n",
       "         True,  True, False,  True,  True,  True,  True,  True,  True,\n",
       "         True,  True,  True,  True,  True,  True, False, False,  True,\n",
       "        False, False,  True,  True]], dtype=bool)"
      ]
     },
     "execution_count": 106,
     "metadata": {},
     "output_type": "execute_result"
    }
   ],
   "source": [
    "log_classifier.coef_ !=0"
   ]
  },
  {
   "cell_type": "code",
   "execution_count": 96,
   "metadata": {
    "collapsed": false
   },
   "outputs": [
    {
     "data": {
      "text/plain": [
       "{1: array([[ 0.62039895,  0.62047911,  0.6203455 ,  0.62047911,  0.62042567,\n",
       "          0.62042567,  0.62049247,  0.62046575,  0.62046575],\n",
       "        [ 0.61880904,  0.61908961,  0.61903617,  0.61912969,  0.61919649,\n",
       "          0.61919649,  0.61920985,  0.61922322,  0.61923658],\n",
       "        [ 0.62187692,  0.62203725,  0.62197045,  0.62211741,  0.62203725,\n",
       "          0.62213078,  0.62214414,  0.62209069,  0.62210405]])}"
      ]
     },
     "execution_count": 96,
     "metadata": {},
     "output_type": "execute_result"
    }
   ],
   "source": [
    "log_classifier.scores_"
   ]
  },
  {
   "cell_type": "code",
   "execution_count": 97,
   "metadata": {
    "collapsed": false
   },
   "outputs": [
    {
     "data": {
      "text/plain": [
       "array([ 0.1,  0.2,  0.3,  0.4,  0.5,  0.6,  0.7,  0.8,  0.9])"
      ]
     },
     "execution_count": 97,
     "metadata": {},
     "output_type": "execute_result"
    }
   ],
   "source": [
    "log_classifier.Cs_"
   ]
  },
  {
   "cell_type": "code",
   "execution_count": 100,
   "metadata": {
    "collapsed": true
   },
   "outputs": [],
   "source": [
    "log_pred = log_classifier.predict(x_test)"
   ]
  },
  {
   "cell_type": "code",
   "execution_count": 101,
   "metadata": {
    "collapsed": false
   },
   "outputs": [
    {
     "data": {
      "text/plain": [
       "0.62061594151263377"
      ]
     },
     "execution_count": 101,
     "metadata": {},
     "output_type": "execute_result"
    }
   ],
   "source": [
    "from sklearn.metrics import accuracy_score\n",
    "accuracy_score(y_test,log_pred)"
   ]
  },
  {
   "cell_type": "code",
   "execution_count": 103,
   "metadata": {
    "collapsed": false
   },
   "outputs": [
    {
     "name": "stdout",
     "output_type": "stream",
     "text": [
      "             precision    recall  f1-score   support\n",
      "\n",
      "          0       0.63      0.76      0.69     39092\n",
      "          1       0.59      0.45      0.51     31077\n",
      "\n",
      "avg / total       0.62      0.62      0.61     70169\n",
      "\n"
     ]
    }
   ],
   "source": [
    "#Compute precision, recall, F-measure and support\n",
    "from sklearn.metrics import classification_report\n",
    "print(classification_report(y_test, log_pred))"
   ]
  },
  {
   "cell_type": "code",
   "execution_count": 104,
   "metadata": {
    "collapsed": false
   },
   "outputs": [
    {
     "data": {
      "text/plain": [
       "{'Cs': array([ 0.1,  0.2,  0.3,  0.4,  0.5,  0.6,  0.7,  0.8,  0.9]),\n",
       " 'class_weight': None,\n",
       " 'cv': None,\n",
       " 'dual': False,\n",
       " 'fit_intercept': True,\n",
       " 'intercept_scaling': 1.0,\n",
       " 'max_iter': 100,\n",
       " 'multi_class': 'ovr',\n",
       " 'n_jobs': 1,\n",
       " 'penalty': 'l1',\n",
       " 'random_state': None,\n",
       " 'refit': True,\n",
       " 'scoring': None,\n",
       " 'solver': 'saga',\n",
       " 'tol': 0.0001,\n",
       " 'verbose': 0}"
      ]
     },
     "execution_count": 104,
     "metadata": {},
     "output_type": "execute_result"
    }
   ],
   "source": [
    "log_classifier.get_params(deep=True)"
   ]
  },
  {
   "cell_type": "code",
   "execution_count": 138,
   "metadata": {
    "collapsed": false
   },
   "outputs": [
    {
     "name": "stdout",
     "output_type": "stream",
     "text": [
      "Accuracy of logistic regression classifierCV on test set: 0.6206\n"
     ]
    }
   ],
   "source": [
    "print('Accuracy of logistic regression classifierCV on test set: {:.4f}'.format(log_classifier.score(x_test, y_test)))"
   ]
  },
  {
   "cell_type": "code",
   "execution_count": null,
   "metadata": {
    "collapsed": true
   },
   "outputs": [],
   "source": []
  },
  {
   "cell_type": "markdown",
   "metadata": {},
   "source": [
    "# Logistic RegressionCV 2 \n",
    "cv = 10 and l1 penalty"
   ]
  },
  {
   "cell_type": "code",
   "execution_count": 109,
   "metadata": {
    "collapsed": false
   },
   "outputs": [
    {
     "data": {
      "text/plain": [
       "array([ 0.1 ,  0.11,  0.12,  0.13,  0.14,  0.15,  0.16,  0.17,  0.18,\n",
       "        0.19,  0.2 ,  0.21,  0.22,  0.23,  0.24,  0.25,  0.26,  0.27,\n",
       "        0.28,  0.29,  0.3 ,  0.31,  0.32,  0.33,  0.34,  0.35,  0.36,\n",
       "        0.37,  0.38,  0.39,  0.4 ,  0.41,  0.42,  0.43,  0.44,  0.45,\n",
       "        0.46,  0.47,  0.48,  0.49,  0.5 ,  0.51,  0.52,  0.53,  0.54,\n",
       "        0.55,  0.56,  0.57,  0.58,  0.59,  0.6 ,  0.61,  0.62,  0.63,\n",
       "        0.64,  0.65,  0.66,  0.67,  0.68,  0.69,  0.7 ,  0.71,  0.72,\n",
       "        0.73,  0.74,  0.75,  0.76,  0.77,  0.78,  0.79,  0.8 ,  0.81,\n",
       "        0.82,  0.83,  0.84,  0.85,  0.86,  0.87,  0.88,  0.89,  0.9 ,\n",
       "        0.91,  0.92,  0.93,  0.94,  0.95,  0.96,  0.97,  0.98,  0.99])"
      ]
     },
     "execution_count": 109,
     "metadata": {},
     "output_type": "execute_result"
    }
   ],
   "source": [
    "cs = np.arange(0.1,1,0.01)\n",
    "from sklearn.linear_model import LogisticRegressionCV\n",
    "log_classifier2 = LogisticRegressionCV(Cs=cs, solver='saga', penalty='l1', cv=10)\n",
    "cs"
   ]
  },
  {
   "cell_type": "code",
   "execution_count": 110,
   "metadata": {
    "collapsed": false
   },
   "outputs": [
    {
     "name": "stdout",
     "output_type": "stream",
     "text": [
      "Finished Training Data in 875.620087146759 seconds\n"
     ]
    }
   ],
   "source": [
    "tic = time.time()\n",
    "log_classifier2.fit(x_train,y_train)\n",
    "toc = time.time()\n",
    "print(\"Finished Training Data in \" + str(toc-tic) + \" seconds\")"
   ]
  },
  {
   "cell_type": "code",
   "execution_count": 111,
   "metadata": {
    "collapsed": false
   },
   "outputs": [
    {
     "data": {
      "text/plain": [
       "{1: array([[ 0.61865954,  0.61874861,  0.61879314,  0.61874861,  0.61848141,\n",
       "          0.61857047,  0.61865954,  0.61865954,  0.61874861,  0.61874861,\n",
       "          0.61870407,  0.61874861,  0.61874861,  0.61874861,  0.61874861,\n",
       "          0.61883768,  0.61883768,  0.61883768,  0.61883768,  0.61879314,\n",
       "          0.61883768,  0.61883768,  0.61883768,  0.61883768,  0.61883768,\n",
       "          0.61879314,  0.61879314,  0.61879314,  0.61883768,  0.61883768,\n",
       "          0.61879314,  0.61879314,  0.61879314,  0.61879314,  0.61883768,\n",
       "          0.61883768,  0.61879314,  0.61874861,  0.61879314,  0.61870407,\n",
       "          0.61870407,  0.61870407,  0.61870407,  0.61870407,  0.61870407,\n",
       "          0.61870407,  0.61870407,  0.61870407,  0.61874861,  0.61870407,\n",
       "          0.61870407,  0.61870407,  0.61870407,  0.61870407,  0.61870407,\n",
       "          0.61870407,  0.61870407,  0.61865954,  0.61865954,  0.61865954,\n",
       "          0.61865954,  0.61865954,  0.61865954,  0.61865954,  0.61865954,\n",
       "          0.61865954,  0.61865954,  0.61865954,  0.61865954,  0.61865954,\n",
       "          0.61865954,  0.61861501,  0.61861501,  0.61861501,  0.61861501,\n",
       "          0.61861501,  0.61861501,  0.61861501,  0.61861501,  0.61861501,\n",
       "          0.61861501,  0.61861501,  0.61861501,  0.61861501,  0.61861501,\n",
       "          0.61861501,  0.61861501,  0.61861501,  0.61861501,  0.61861501],\n",
       "        [ 0.6195778 ,  0.61948873,  0.61948873,  0.61939966,  0.61939966,\n",
       "          0.61935513,  0.61926606,  0.61926606,  0.61922152,  0.61917698,\n",
       "          0.61922152,  0.61922152,  0.61922152,  0.61922152,  0.61926606,\n",
       "          0.61926606,  0.61935513,  0.61931059,  0.61931059,  0.61935513,\n",
       "          0.61931059,  0.61931059,  0.61931059,  0.61931059,  0.61939966,\n",
       "          0.61935513,  0.61935513,  0.61935513,  0.61939966,  0.61935513,\n",
       "          0.61935513,  0.61939966,  0.61939966,  0.61935513,  0.61935513,\n",
       "          0.61935513,  0.61935513,  0.61935513,  0.61935513,  0.61935513,\n",
       "          0.61935513,  0.61939966,  0.61939966,  0.61939966,  0.61939966,\n",
       "          0.61939966,  0.61939966,  0.61939966,  0.61939966,  0.61939966,\n",
       "          0.61939966,  0.61939966,  0.61939966,  0.61939966,  0.61939966,\n",
       "          0.6194442 ,  0.6194442 ,  0.6194442 ,  0.6194442 ,  0.6194442 ,\n",
       "          0.6194442 ,  0.6194442 ,  0.6194442 ,  0.61948873,  0.61948873,\n",
       "          0.61948873,  0.61948873,  0.61948873,  0.61948873,  0.61948873,\n",
       "          0.61948873,  0.61948873,  0.61948873,  0.61948873,  0.61948873,\n",
       "          0.61948873,  0.61948873,  0.61948873,  0.6194442 ,  0.6194442 ,\n",
       "          0.6194442 ,  0.6194442 ,  0.6194442 ,  0.6194442 ,  0.6194442 ,\n",
       "          0.6194442 ,  0.6194442 ,  0.6194442 ,  0.6194442 ,  0.6194442 ],\n",
       "        [ 0.62153737,  0.62140376,  0.62144829,  0.62171551,  0.62167097,\n",
       "          0.62162644,  0.62176004,  0.62180458,  0.62176004,  0.62167097,\n",
       "          0.62171551,  0.62176004,  0.62176004,  0.62176004,  0.62171551,\n",
       "          0.62176004,  0.62176004,  0.62180458,  0.62171551,  0.62176004,\n",
       "          0.62176004,  0.62171551,  0.62167097,  0.62167097,  0.62167097,\n",
       "          0.62167097,  0.62171551,  0.62176004,  0.62176004,  0.62180458,\n",
       "          0.62180458,  0.62180458,  0.62180458,  0.62184911,  0.62184911,\n",
       "          0.62184911,  0.62189365,  0.62184911,  0.62189365,  0.62184911,\n",
       "          0.62189365,  0.62189365,  0.62189365,  0.62189365,  0.62184911,\n",
       "          0.62184911,  0.62180458,  0.62180458,  0.62180458,  0.62180458,\n",
       "          0.62180458,  0.62184911,  0.62184911,  0.62184911,  0.62184911,\n",
       "          0.62189365,  0.62189365,  0.62189365,  0.62189365,  0.62189365,\n",
       "          0.62189365,  0.62189365,  0.62189365,  0.62189365,  0.62189365,\n",
       "          0.62189365,  0.62184911,  0.62184911,  0.62184911,  0.62184911,\n",
       "          0.62184911,  0.62184911,  0.62184911,  0.62184911,  0.62184911,\n",
       "          0.62184911,  0.62184911,  0.62184911,  0.62189365,  0.62189365,\n",
       "          0.62189365,  0.62189365,  0.62189365,  0.62193818,  0.62193818,\n",
       "          0.62193818,  0.62193818,  0.62193818,  0.62193818,  0.62193818],\n",
       "        [ 0.62412042,  0.62407589,  0.62403135,  0.62398682,  0.62394228,\n",
       "          0.6237196 ,  0.62380868,  0.62376414,  0.6237196 ,  0.62363053,\n",
       "          0.62354146,  0.62349693,  0.62354146,  0.623586  ,  0.62354146,\n",
       "          0.62354146,  0.62354146,  0.62354146,  0.62349693,  0.62354146,\n",
       "          0.62363053,  0.62363053,  0.62367507,  0.62363053,  0.62363053,\n",
       "          0.623586  ,  0.623586  ,  0.623586  ,  0.62354146,  0.62354146,\n",
       "          0.62354146,  0.62354146,  0.62354146,  0.62354146,  0.62354146,\n",
       "          0.62354146,  0.62349693,  0.623586  ,  0.623586  ,  0.623586  ,\n",
       "          0.62354146,  0.62354146,  0.62354146,  0.62354146,  0.62354146,\n",
       "          0.62354146,  0.623586  ,  0.623586  ,  0.623586  ,  0.623586  ,\n",
       "          0.623586  ,  0.62354146,  0.62354146,  0.62354146,  0.62354146,\n",
       "          0.62354146,  0.623586  ,  0.623586  ,  0.623586  ,  0.623586  ,\n",
       "          0.623586  ,  0.623586  ,  0.62354146,  0.62354146,  0.62354146,\n",
       "          0.62354146,  0.62354146,  0.62354146,  0.623586  ,  0.623586  ,\n",
       "          0.623586  ,  0.62363053,  0.62363053,  0.623586  ,  0.623586  ,\n",
       "          0.623586  ,  0.62363053,  0.62363053,  0.62363053,  0.62363053,\n",
       "          0.62363053,  0.62363053,  0.62363053,  0.62367507,  0.62367507,\n",
       "          0.62367507,  0.62367507,  0.62367507,  0.62367507,  0.62367507],\n",
       "        [ 0.61641578,  0.61637125,  0.61646032,  0.61637125,  0.61646032,\n",
       "          0.61641578,  0.61641578,  0.61637125,  0.61646032,  0.61659393,\n",
       "          0.61663846,  0.61672753,  0.61677207,  0.61672753,  0.61672753,\n",
       "          0.616683  ,  0.61672753,  0.6168166 ,  0.6168166 ,  0.6168166 ,\n",
       "          0.61686114,  0.61686114,  0.61686114,  0.61686114,  0.61686114,\n",
       "          0.61686114,  0.6168166 ,  0.61677207,  0.6168166 ,  0.61672753,\n",
       "          0.61672753,  0.61677207,  0.61677207,  0.61677207,  0.61677207,\n",
       "          0.6168166 ,  0.6168166 ,  0.61686114,  0.61686114,  0.61686114,\n",
       "          0.61690567,  0.61690567,  0.61686114,  0.61690567,  0.61690567,\n",
       "          0.61695021,  0.61695021,  0.61695021,  0.61695021,  0.61695021,\n",
       "          0.61695021,  0.61695021,  0.61695021,  0.61695021,  0.61695021,\n",
       "          0.61699474,  0.61699474,  0.61695021,  0.61695021,  0.61695021,\n",
       "          0.61695021,  0.61695021,  0.61695021,  0.61695021,  0.61699474,\n",
       "          0.61699474,  0.61699474,  0.61699474,  0.61699474,  0.61699474,\n",
       "          0.61699474,  0.61699474,  0.61699474,  0.61699474,  0.61699474,\n",
       "          0.61699474,  0.61699474,  0.61703928,  0.61703928,  0.61699474,\n",
       "          0.61699474,  0.61699474,  0.61699474,  0.61699474,  0.61699474,\n",
       "          0.61699474,  0.61699474,  0.61699474,  0.61699474,  0.61699474],\n",
       "        [ 0.62127015,  0.62135922,  0.62131469,  0.62140376,  0.62135922,\n",
       "          0.62135922,  0.62140376,  0.62140376,  0.62144829,  0.62144829,\n",
       "          0.62140376,  0.62140376,  0.62140376,  0.62140376,  0.62140376,\n",
       "          0.62140376,  0.62140376,  0.62149283,  0.62144829,  0.62140376,\n",
       "          0.62144829,  0.62149283,  0.62144829,  0.62144829,  0.62144829,\n",
       "          0.62144829,  0.62144829,  0.62153737,  0.62153737,  0.62153737,\n",
       "          0.62153737,  0.62153737,  0.62153737,  0.62149283,  0.62149283,\n",
       "          0.62144829,  0.62144829,  0.62144829,  0.62144829,  0.62144829,\n",
       "          0.62144829,  0.62144829,  0.62144829,  0.62144829,  0.62144829,\n",
       "          0.62144829,  0.62144829,  0.62144829,  0.62144829,  0.62144829,\n",
       "          0.62144829,  0.62144829,  0.62144829,  0.62144829,  0.62144829,\n",
       "          0.62144829,  0.62144829,  0.62144829,  0.62149283,  0.62149283,\n",
       "          0.62149283,  0.62149283,  0.62144829,  0.62144829,  0.62144829,\n",
       "          0.62144829,  0.62144829,  0.62144829,  0.62144829,  0.62144829,\n",
       "          0.62144829,  0.62144829,  0.62144829,  0.62144829,  0.62144829,\n",
       "          0.62144829,  0.62144829,  0.62144829,  0.62144829,  0.62144829,\n",
       "          0.62144829,  0.62144829,  0.62144829,  0.62144829,  0.62144829,\n",
       "          0.62149283,  0.62149283,  0.62149283,  0.62149283,  0.62149283],\n",
       "        [ 0.62073573,  0.62060212,  0.62069119,  0.62078026,  0.62069119,\n",
       "          0.62055758,  0.62037944,  0.62033491,  0.62042398,  0.62042398,\n",
       "          0.62024584,  0.62029037,  0.62029037,  0.62029037,  0.62029037,\n",
       "          0.62033491,  0.62033491,  0.62037944,  0.62037944,  0.62042398,\n",
       "          0.62042398,  0.62046851,  0.62042398,  0.62037944,  0.62037944,\n",
       "          0.62037944,  0.62037944,  0.62037944,  0.62037944,  0.62042398,\n",
       "          0.62042398,  0.62046851,  0.62046851,  0.62046851,  0.62046851,\n",
       "          0.62046851,  0.62046851,  0.62042398,  0.62042398,  0.62042398,\n",
       "          0.62037944,  0.62037944,  0.62033491,  0.62037944,  0.62042398,\n",
       "          0.62042398,  0.62042398,  0.62042398,  0.62046851,  0.62046851,\n",
       "          0.62046851,  0.62046851,  0.62046851,  0.62051305,  0.62051305,\n",
       "          0.62051305,  0.62051305,  0.62051305,  0.62051305,  0.62051305,\n",
       "          0.62051305,  0.62051305,  0.62046851,  0.62046851,  0.62042398,\n",
       "          0.62042398,  0.62042398,  0.62042398,  0.62042398,  0.62042398,\n",
       "          0.62042398,  0.62042398,  0.62042398,  0.62046851,  0.62046851,\n",
       "          0.62046851,  0.62046851,  0.62046851,  0.62046851,  0.62046851,\n",
       "          0.62046851,  0.62046851,  0.62046851,  0.62051305,  0.62051305,\n",
       "          0.62051305,  0.62055758,  0.62055758,  0.62055758,  0.62055758],\n",
       "        [ 0.62011223,  0.6202013 ,  0.62037944,  0.62042398,  0.62051305,\n",
       "          0.62051305,  0.62060212,  0.62051305,  0.62042398,  0.62051305,\n",
       "          0.62060212,  0.62055758,  0.62055758,  0.62051305,  0.62051305,\n",
       "          0.62051305,  0.62046851,  0.62051305,  0.62051305,  0.62051305,\n",
       "          0.62046851,  0.62051305,  0.62051305,  0.62055758,  0.62055758,\n",
       "          0.62069119,  0.62073573,  0.62073573,  0.62069119,  0.62064666,\n",
       "          0.62069119,  0.62069119,  0.62069119,  0.62069119,  0.62069119,\n",
       "          0.62064666,  0.62060212,  0.62055758,  0.62055758,  0.62055758,\n",
       "          0.62055758,  0.62051305,  0.62051305,  0.62051305,  0.62051305,\n",
       "          0.62055758,  0.62055758,  0.62055758,  0.62060212,  0.62060212,\n",
       "          0.62060212,  0.62060212,  0.62060212,  0.62060212,  0.62060212,\n",
       "          0.62060212,  0.62060212,  0.62060212,  0.62060212,  0.62060212,\n",
       "          0.62060212,  0.62060212,  0.62060212,  0.62060212,  0.62064666,\n",
       "          0.62064666,  0.62060212,  0.62060212,  0.62060212,  0.62060212,\n",
       "          0.62060212,  0.62060212,  0.62060212,  0.62060212,  0.62060212,\n",
       "          0.62060212,  0.62060212,  0.62060212,  0.62060212,  0.62060212,\n",
       "          0.62060212,  0.62060212,  0.62060212,  0.62060212,  0.62060212,\n",
       "          0.62060212,  0.62060212,  0.62060212,  0.62060212,  0.62060212],\n",
       "        [ 0.62403135,  0.62403135,  0.62407589,  0.62407589,  0.62407589,\n",
       "          0.62403135,  0.62412042,  0.62416496,  0.62416496,  0.62429857,\n",
       "          0.6243431 ,  0.6243431 ,  0.62438764,  0.6243431 ,  0.62438764,\n",
       "          0.6243431 ,  0.6243431 ,  0.62429857,  0.6243431 ,  0.6243431 ,\n",
       "          0.6243431 ,  0.6243431 ,  0.6243431 ,  0.6243431 ,  0.6243431 ,\n",
       "          0.62429857,  0.62429857,  0.62429857,  0.62429857,  0.62429857,\n",
       "          0.62429857,  0.62429857,  0.6243431 ,  0.62438764,  0.62438764,\n",
       "          0.62438764,  0.62438764,  0.62438764,  0.62438764,  0.62438764,\n",
       "          0.62438764,  0.62429857,  0.6243431 ,  0.6243431 ,  0.6243431 ,\n",
       "          0.6243431 ,  0.6243431 ,  0.62438764,  0.62438764,  0.62438764,\n",
       "          0.6243431 ,  0.6243431 ,  0.6243431 ,  0.6243431 ,  0.6243431 ,\n",
       "          0.6243431 ,  0.6243431 ,  0.6243431 ,  0.62438764,  0.6243431 ,\n",
       "          0.6243431 ,  0.6243431 ,  0.6243431 ,  0.62438764,  0.62438764,\n",
       "          0.62438764,  0.62438764,  0.62438764,  0.62438764,  0.62438764,\n",
       "          0.62438764,  0.62438764,  0.62438764,  0.62438764,  0.62438764,\n",
       "          0.62438764,  0.62438764,  0.62438764,  0.62438764,  0.6243431 ,\n",
       "          0.6243431 ,  0.6243431 ,  0.6243431 ,  0.6243431 ,  0.62429857,\n",
       "          0.62429857,  0.62429857,  0.62429857,  0.62429857,  0.62429857],\n",
       "        [ 0.61951632,  0.6196054 ,  0.6196054 ,  0.61947179,  0.61951632,\n",
       "          0.61956086,  0.61969447,  0.61978355,  0.61978355,  0.61978355,\n",
       "          0.61978355,  0.61978355,  0.61978355,  0.61969447,  0.61969447,\n",
       "          0.61969447,  0.6196054 ,  0.61964994,  0.61969447,  0.61964994,\n",
       "          0.61969447,  0.61969447,  0.61978355,  0.61978355,  0.61982809,\n",
       "          0.61987262,  0.61987262,  0.61987262,  0.61987262,  0.61987262,\n",
       "          0.61987262,  0.61982809,  0.61978355,  0.61973901,  0.61978355,\n",
       "          0.61978355,  0.61973901,  0.61973901,  0.61973901,  0.61973901,\n",
       "          0.61973901,  0.61973901,  0.61978355,  0.61978355,  0.61978355,\n",
       "          0.61978355,  0.61978355,  0.61978355,  0.61978355,  0.61978355,\n",
       "          0.61978355,  0.61978355,  0.61978355,  0.61978355,  0.61978355,\n",
       "          0.61978355,  0.61978355,  0.61978355,  0.61978355,  0.61978355,\n",
       "          0.61978355,  0.61978355,  0.61978355,  0.61978355,  0.61978355,\n",
       "          0.61973901,  0.61973901,  0.61973901,  0.61973901,  0.61973901,\n",
       "          0.61973901,  0.61973901,  0.61973901,  0.61973901,  0.61973901,\n",
       "          0.61973901,  0.61973901,  0.61973901,  0.61973901,  0.61973901,\n",
       "          0.61973901,  0.61973901,  0.61973901,  0.61973901,  0.61973901,\n",
       "          0.61973901,  0.61973901,  0.61973901,  0.61973901,  0.61973901]])}"
      ]
     },
     "execution_count": 111,
     "metadata": {},
     "output_type": "execute_result"
    }
   ],
   "source": [
    "log_classifier2.scores_"
   ]
  },
  {
   "cell_type": "code",
   "execution_count": 115,
   "metadata": {
    "collapsed": false
   },
   "outputs": [
    {
     "data": {
      "text/plain": [
       "array([ 0.1 ,  0.11,  0.12,  0.13,  0.14,  0.15,  0.16,  0.17,  0.18,\n",
       "        0.19,  0.2 ,  0.21,  0.22,  0.23,  0.24,  0.25,  0.26,  0.27,\n",
       "        0.28,  0.29,  0.3 ,  0.31,  0.32,  0.33,  0.34,  0.35,  0.36,\n",
       "        0.37,  0.38,  0.39,  0.4 ,  0.41,  0.42,  0.43,  0.44,  0.45,\n",
       "        0.46,  0.47,  0.48,  0.49,  0.5 ,  0.51,  0.52,  0.53,  0.54,\n",
       "        0.55,  0.56,  0.57,  0.58,  0.59,  0.6 ,  0.61,  0.62,  0.63,\n",
       "        0.64,  0.65,  0.66,  0.67,  0.68,  0.69,  0.7 ,  0.71,  0.72,\n",
       "        0.73,  0.74,  0.75,  0.76,  0.77,  0.78,  0.79,  0.8 ,  0.81,\n",
       "        0.82,  0.83,  0.84,  0.85,  0.86,  0.87,  0.88,  0.89,  0.9 ,\n",
       "        0.91,  0.92,  0.93,  0.94,  0.95,  0.96,  0.97,  0.98,  0.99])"
      ]
     },
     "execution_count": 115,
     "metadata": {},
     "output_type": "execute_result"
    }
   ],
   "source": [
    "log_classifier2.Cs_"
   ]
  },
  {
   "cell_type": "code",
   "execution_count": 116,
   "metadata": {
    "collapsed": false
   },
   "outputs": [
    {
     "data": {
      "text/plain": [
       "array([ 0.96])"
      ]
     },
     "execution_count": 116,
     "metadata": {},
     "output_type": "execute_result"
    }
   ],
   "source": [
    "log_classifier2.C_"
   ]
  },
  {
   "cell_type": "code",
   "execution_count": 117,
   "metadata": {
    "collapsed": true
   },
   "outputs": [],
   "source": [
    "log_pred2 = log_classifier2.predict(x_test)"
   ]
  },
  {
   "cell_type": "code",
   "execution_count": 118,
   "metadata": {
    "collapsed": false
   },
   "outputs": [
    {
     "data": {
      "text/plain": [
       "0.62058743889751888"
      ]
     },
     "execution_count": 118,
     "metadata": {},
     "output_type": "execute_result"
    }
   ],
   "source": [
    "from sklearn.metrics import accuracy_score\n",
    "accuracy_score(y_test,log_pred2)"
   ]
  },
  {
   "cell_type": "code",
   "execution_count": 119,
   "metadata": {
    "collapsed": false
   },
   "outputs": [
    {
     "name": "stdout",
     "output_type": "stream",
     "text": [
      "             precision    recall  f1-score   support\n",
      "\n",
      "          0       0.63      0.76      0.69     39092\n",
      "          1       0.59      0.45      0.51     31077\n",
      "\n",
      "avg / total       0.62      0.62      0.61     70169\n",
      "\n"
     ]
    }
   ],
   "source": [
    "#Compute precision, recall, F-measure and support\n",
    "from sklearn.metrics import classification_report\n",
    "print(classification_report(y_test, log_pred2))"
   ]
  },
  {
   "cell_type": "code",
   "execution_count": 137,
   "metadata": {
    "collapsed": false
   },
   "outputs": [
    {
     "name": "stdout",
     "output_type": "stream",
     "text": [
      "Accuracy of logistic regression classifier on test set: 0.6206\n"
     ]
    }
   ],
   "source": [
    "print('Accuracy of logistic regression classifierCV on test set: {:.4f}'.format(log_classifier2.score(x_test, y_test)))"
   ]
  },
  {
   "cell_type": "code",
   "execution_count": null,
   "metadata": {
    "collapsed": true
   },
   "outputs": [],
   "source": []
  }
 ],
 "metadata": {
  "kernelspec": {
   "display_name": "Python 3",
   "language": "python",
   "name": "python3"
  },
  "language_info": {
   "codemirror_mode": {
    "name": "ipython",
    "version": 3
   },
   "file_extension": ".py",
   "mimetype": "text/x-python",
   "name": "python",
   "nbconvert_exporter": "python",
   "pygments_lexer": "ipython3",
   "version": "3.6.0"
  }
 },
 "nbformat": 4,
 "nbformat_minor": 2
}
